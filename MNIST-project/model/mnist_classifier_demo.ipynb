{
 "cells": [
  {
   "cell_type": "markdown",
   "metadata": {},
   "source": [
    "# MNIST Digit Classifier Demo\n",
    "\n",
    "This notebook demonstrates how to train and use the MNIST digit classifier model."
   ]
  },
  {
   "cell_type": "code",
   "execution_count": 2,
   "metadata": {},
   "outputs": [
    {
     "data": {
      "text/plain": [
       "<torch._C.Generator at 0x2897d4d3ad0>"
      ]
     },
     "execution_count": 2,
     "metadata": {},
     "output_type": "execute_result"
    }
   ],
   "source": [
    "import os\n",
    "import sys\n",
    "import torch\n",
    "import torch.nn as nn\n",
    "import torch.nn.functional as F\n",
    "import torch.optim as optim\n",
    "from torch.utils.data import DataLoader\n",
    "from torchvision import datasets, transforms\n",
    "import matplotlib.pyplot as plt\n",
    "import numpy as np\n",
    "from PIL import Image\n",
    "\n",
    "sys.path.append(os.path.dirname(os.path.dirname(os.path.abspath('.'))))\n",
    "\n",
    "from model import MNISTClassifier\n",
    "from train import train_model\n",
    "from inference import MNISTPredictor\n",
    "\n",
    "# Set random seed for reproducibility\n",
    "torch.manual_seed(42)"
   ]
  },
  {
   "cell_type": "code",
   "execution_count": 3,
   "metadata": {},
   "outputs": [],
   "source": [
    "# Define transformations for the MNIST dataset\n",
    "transform = transforms.Compose([\n",
    "    transforms.ToTensor(),\n",
    "    transforms.Normalize((0.1307,), (0.3081,))  # MNIST mean and std\n",
    "])\n",
    "\n",
    "# Load MNIST training dataset\n",
    "train_dataset = datasets.MNIST('../data', train=True, download=True, transform=transform)\n",
    "train_loader = DataLoader(train_dataset, batch_size=64, shuffle=True)\n",
    "\n",
    "# Load MNIST test dataset\n",
    "test_dataset = datasets.MNIST('../data', train=False, download=True, transform=transform)\n",
    "test_loader = DataLoader(test_dataset, batch_size=1000)"
   ]
  },
  {
   "cell_type": "code",
   "execution_count": 5,
   "metadata": {},
   "outputs": [
    {
     "data": {
      "image/png": "[encoded data removed]",
      "text/plain": [
       "<Figure size 1000x400 with 10 Axes>"
      ]
     },
     "metadata": {},
     "output_type": "display_data"
    }
   ],
   "source": [
    "# Visualise Some Training Examples\n",
    "# Get a batch of training data\n",
    "examples = iter(train_loader)\n",
    "example_data, example_targets = next(examples)\n",
    "\n",
    "# Create a figure to display the images\n",
    "fig = plt.figure(figsize=(10, 4))\n",
    "for i in range(10):\n",
    "    plt.subplot(2, 5, i+1)\n",
    "    plt.tight_layout()\n",
    "    plt.imshow(example_data[i][0], cmap='gray', interpolation='none')\n",
    "    plt.title(f\"Label: {example_targets[i]}\")\n",
    "    plt.xticks([])\n",
    "    plt.yticks([])\n",
    "plt.show()"
   ]
  },
  {
   "cell_type": "code",
   "execution_count": 6,
   "metadata": {},
   "outputs": [
    {
     "name": "stdout",
     "output_type": "stream",
     "text": [
      "Starting model training...\n",
      "Train Epoch: 1 [0/60000 (0%)]\tLoss: 2.286061\n",
      "Train Epoch: 1 [6400/60000 (11%)]\tLoss: 0.820093\n",
      "Train Epoch: 1 [12800/60000 (21%)]\tLoss: 0.564211\n",
      "Train Epoch: 1 [19200/60000 (32%)]\tLoss: 0.296636\n",
      "Train Epoch: 1 [25600/60000 (43%)]\tLoss: 0.814258\n",
      "Train Epoch: 1 [32000/60000 (53%)]\tLoss: 0.215802\n",
      "Train Epoch: 1 [38400/60000 (64%)]\tLoss: 0.228776\n",
      "Train Epoch: 1 [44800/60000 (75%)]\tLoss: 0.188323\n",
      "Train Epoch: 1 [51200/60000 (85%)]\tLoss: 0.322244\n",
      "Train Epoch: 1 [57600/60000 (96%)]\tLoss: 0.081532\n",
      "Epoch 1: Train Loss: 0.5300, Test Loss: 0.1281, Test Accuracy: 96.11%\n",
      "Train Epoch: 2 [0/60000 (0%)]\tLoss: 0.201612\n",
      "Train Epoch: 2 [6400/60000 (11%)]\tLoss: 0.189218\n",
      "Train Epoch: 2 [12800/60000 (21%)]\tLoss: 0.107840\n",
      "Train Epoch: 2 [19200/60000 (32%)]\tLoss: 0.264205\n",
      "Train Epoch: 2 [25600/60000 (43%)]\tLoss: 0.049332\n",
      "Train Epoch: 2 [32000/60000 (53%)]\tLoss: 0.198286\n",
      "Train Epoch: 2 [38400/60000 (64%)]\tLoss: 0.137971\n",
      "Train Epoch: 2 [44800/60000 (75%)]\tLoss: 0.192175\n",
      "Train Epoch: 2 [51200/60000 (85%)]\tLoss: 0.086040\n",
      "Train Epoch: 2 [57600/60000 (96%)]\tLoss: 0.036945\n",
      "Epoch 2: Train Loss: 0.1709, Test Loss: 0.0778, Test Accuracy: 97.47%\n",
      "Training completed successfully!\n"
     ]
    }
   ],
   "source": [
    "# Train the Model (only run for 2 epochs to keep it quick)\n",
    "# Create model\n",
    "model = MNISTClassifier()\n",
    "\n",
    "# Train model\n",
    "print(\"Starting model training...\")\n",
    "trained_model, history = train_model(model, train_loader, test_loader, epochs=2)\n",
    "\n",
    "print(\"Training completed successfully!\")"
   ]
  }
 ],
 "metadata": {
  "kernelspec": {
   "display_name": "venv",
   "language": "python",
   "name": "python3"
  },
  "language_info": {
   "codemirror_mode": {
    "name": "ipython",
    "version": 3
   },
   "file_extension": ".py",
   "mimetype": "text/x-python",
   "name": "python",
   "nbconvert_exporter": "python",
   "pygments_lexer": "ipython3",
   "version": "3.12.8"
  }
 },
 "nbformat": 4,
 "nbformat_minor": 2
}
